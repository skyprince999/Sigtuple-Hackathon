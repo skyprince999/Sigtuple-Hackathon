{
 "cells": [
  {
   "cell_type": "raw",
   "metadata": {
    "collapsed": true
   },
   "source": [
    "import cv2\n",
    "print cv2.__version__\n",
    "print sklearn.__version__"
   ]
  },
  {
   "cell_type": "code",
   "execution_count": 4,
   "metadata": {
    "collapsed": true
   },
   "outputs": [],
   "source": [
    "import pandas as pd\n",
    "import numpy as np\n",
    "np.random.seed(1337)  # for reproducibility\n",
    "\n",
    "from sklearn import svm\n",
    "from sklearn.externals import joblib\n",
    "from sklearn.cross_validation import train_test_split\n",
    "from sklearn.model_selection import GridSearchCV\n",
    "\n",
    "\n"
   ]
  },
  {
   "cell_type": "code",
   "execution_count": 2,
   "metadata": {},
   "outputs": [
    {
     "name": "stdout",
     "output_type": "stream",
     "text": [
      "(3207006, 5)\n",
      "(3207006, 5)\n"
     ]
    }
   ],
   "source": [
    "dfTrain = pd.read_csv('Train.csv')\n",
    "dfTrain.shape\n",
    "\n",
    "train, test = train_test_split(dfTrain, test_size = 0.5)\n",
    "#validate, test = train_test_split(test, test_size = 0.5)\n",
    "\n",
    "print train.shape\n",
    "#print validate.shape\n",
    "print test.shape"
   ]
  },
  {
   "cell_type": "code",
   "execution_count": 3,
   "metadata": {
    "collapsed": true
   },
   "outputs": [],
   "source": [
    "from sklearn import svm\n",
    "\n",
    "lin_clf = svm.LinearSVC()\n",
    "\n",
    "X = dfTrain[['Red', 'Green', 'Blue']]\n",
    "y = dfTrain.Mask"
   ]
  },
  {
   "cell_type": "code",
   "execution_count": 4,
   "metadata": {},
   "outputs": [
    {
     "data": {
      "text/plain": [
       "LinearSVC(C=1.0, class_weight=None, dual=True, fit_intercept=True,\n",
       "     intercept_scaling=1, loss='squared_hinge', max_iter=1000,\n",
       "     multi_class='ovr', penalty='l2', random_state=None, tol=0.0001,\n",
       "     verbose=0)"
      ]
     },
     "execution_count": 4,
     "metadata": {},
     "output_type": "execute_result"
    }
   ],
   "source": [
    "## Train: 50 validate:50 test: 50 >>> 0.69 >>> linearSVC_v1.pkl\n",
    "## Train: with all data >>>    >>> linearSVC_v2.pkl\n",
    "lin_clf.fit(X, y, verbose = 1)"
   ]
  },
  {
   "cell_type": "code",
   "execution_count": 5,
   "metadata": {},
   "outputs": [
    {
     "data": {
      "text/plain": [
       "['linearSVC_v2.pkl',\n",
       " 'linearSVC_v2.pkl_01.npy',\n",
       " 'linearSVC_v2.pkl_02.npy',\n",
       " 'linearSVC_v2.pkl_03.npy']"
      ]
     },
     "execution_count": 5,
     "metadata": {},
     "output_type": "execute_result"
    }
   ],
   "source": [
    "from sklearn.externals import joblib\n",
    "joblib.dump(lin_clf, 'linearSVC_v2.pkl') "
   ]
  },
  {
   "cell_type": "code",
   "execution_count": 6,
   "metadata": {
    "collapsed": true
   },
   "outputs": [],
   "source": [
    "lin_clf_v0 = joblib.load('linearSVC_v1.pkl')"
   ]
  },
  {
   "cell_type": "code",
   "execution_count": 16,
   "metadata": {},
   "outputs": [
    {
     "name": "stderr",
     "output_type": "stream",
     "text": [
      "D:\\Anaconda2\\lib\\site-packages\\ipykernel\\__main__.py:1: SettingWithCopyWarning: \n",
      "A value is trying to be set on a copy of a slice from a DataFrame.\n",
      "Try using .loc[row_indexer,col_indexer] = value instead\n",
      "\n",
      "See the caveats in the documentation: http://pandas.pydata.org/pandas-docs/stable/indexing.html#indexing-view-versus-copy\n",
      "  if __name__ == '__main__':\n",
      "D:\\Anaconda2\\lib\\site-packages\\ipykernel\\__main__.py:2: SettingWithCopyWarning: \n",
      "A value is trying to be set on a copy of a slice from a DataFrame.\n",
      "Try using .loc[row_indexer,col_indexer] = value instead\n",
      "\n",
      "See the caveats in the documentation: http://pandas.pydata.org/pandas-docs/stable/indexing.html#indexing-view-versus-copy\n",
      "  from ipykernel import kernelapp as app\n",
      "D:\\Anaconda2\\lib\\site-packages\\ipykernel\\__main__.py:5: SettingWithCopyWarning: \n",
      "A value is trying to be set on a copy of a slice from a DataFrame.\n",
      "Try using .loc[row_indexer,col_indexer] = value instead\n",
      "\n",
      "See the caveats in the documentation: http://pandas.pydata.org/pandas-docs/stable/indexing.html#indexing-view-versus-copy\n",
      "D:\\Anaconda2\\lib\\site-packages\\ipykernel\\__main__.py:6: SettingWithCopyWarning: \n",
      "A value is trying to be set on a copy of a slice from a DataFrame.\n",
      "Try using .loc[row_indexer,col_indexer] = value instead\n",
      "\n",
      "See the caveats in the documentation: http://pandas.pydata.org/pandas-docs/stable/indexing.html#indexing-view-versus-copy\n"
     ]
    }
   ],
   "source": [
    "train['PredMask0'] = lin_clf_v0.predict(train[['Red', 'Green', 'Blue']])\n",
    "test['PredMask0'] = lin_clf_v0.predict(test[['Red', 'Green', 'Blue']])\n",
    "dfTrain['PredMask0'] = lin_clf_v0.predict(dfTrain[['Red', 'Green', 'Blue']])\n",
    "\n",
    "train['PredMask1'] = lin_clf.predict(train[['Red', 'Green', 'Blue']])\n",
    "test['PredMask1'] = lin_clf.predict(test[['Red', 'Green', 'Blue']])\n",
    "dfTrain['PredMask1'] = lin_clf.predict(dfTrain[['Red', 'Green', 'Blue']])"
   ]
  },
  {
   "cell_type": "code",
   "execution_count": 19,
   "metadata": {},
   "outputs": [
    {
     "data": {
      "text/plain": [
       "Index([u'Unnamed: 0', u'Red', u'Green', u'Blue', u'Mask', u'PredMask0',\n",
       "       u'PredMask1'],\n",
       "      dtype='object')"
      ]
     },
     "execution_count": 19,
     "metadata": {},
     "output_type": "execute_result"
    }
   ],
   "source": [
    "test.columns "
   ]
  },
  {
   "cell_type": "code",
   "execution_count": 20,
   "metadata": {},
   "outputs": [
    {
     "name": "stdout",
     "output_type": "stream",
     "text": [
      "Train ~ Lin_clf v0\n",
      "0.970030926041\n",
      "0.796453055078\n",
      "Test ~ Lin_clf v0\n",
      "0.970090171331\n",
      "0.797421758349\n"
     ]
    }
   ],
   "source": [
    "import sklearn.metrics \n",
    "print \"Train ~ Lin_clf v0\"\n",
    "print sklearn.metrics.accuracy_score(train.Mask,train.PredMask0)\n",
    "print sklearn.metrics.f1_score(train.Mask,train.PredMask0)\n",
    "\n",
    "print \"Test ~ Lin_clf v0\"\n",
    "print sklearn.metrics.accuracy_score(test.Mask,test.PredMask0)\n",
    "print sklearn.metrics.f1_score(test.Mask,test.PredMask0)"
   ]
  },
  {
   "cell_type": "code",
   "execution_count": 15,
   "metadata": {},
   "outputs": [
    {
     "data": {
      "text/plain": [
       "Index([u'Unnamed: 0', u'Red', u'Green', u'Blue', u'Mask', u'PredMask0'], dtype='object')"
      ]
     },
     "execution_count": 15,
     "metadata": {},
     "output_type": "execute_result"
    }
   ],
   "source": [
    "train.columns"
   ]
  },
  {
   "cell_type": "code",
   "execution_count": 21,
   "metadata": {},
   "outputs": [
    {
     "name": "stdout",
     "output_type": "stream",
     "text": [
      "Train ~ Lin_clf v1\n",
      "0.969986336165\n",
      "0.7959120497\n",
      "Test ~ Lin_clf v1\n",
      "0.970044646003\n",
      "0.796900667012\n"
     ]
    }
   ],
   "source": [
    "print \"Train ~ Lin_clf v1\"\n",
    "print sklearn.metrics.accuracy_score(train.Mask,train.PredMask1)\n",
    "print sklearn.metrics.f1_score(train.Mask,train.PredMask1)\n",
    "\n",
    "print \"Test ~ Lin_clf v1\"\n",
    "print sklearn.metrics.accuracy_score(test.Mask,test.PredMask1)\n",
    "print sklearn.metrics.f1_score(test.Mask,test.PredMask1)"
   ]
  },
  {
   "cell_type": "code",
   "execution_count": 22,
   "metadata": {},
   "outputs": [
    {
     "name": "stdout",
     "output_type": "stream",
     "text": [
      "dfTrain ~ Lin_clf v0\n",
      "0.970060548686\n",
      "0.79693808278\n",
      "dfTrain ~ Lin_clf v1\n",
      "0.970015491084\n",
      "0.796407077866\n"
     ]
    }
   ],
   "source": [
    "print \"dfTrain ~ Lin_clf v0\"\n",
    "print sklearn.metrics.accuracy_score(dfTrain.Mask,dfTrain.PredMask0)\n",
    "print sklearn.metrics.f1_score(dfTrain.Mask,dfTrain.PredMask0)\n",
    "\n",
    "print \"dfTrain ~ Lin_clf v1\"\n",
    "print sklearn.metrics.accuracy_score(dfTrain.Mask,dfTrain.PredMask1)\n",
    "print sklearn.metrics.f1_score(dfTrain.Mask,dfTrain.PredMask1)"
   ]
  },
  {
   "cell_type": "code",
   "execution_count": 9,
   "metadata": {
    "collapsed": true
   },
   "outputs": [],
   "source": [
    "from sklearn.model_selection import GridSearchCV\n",
    "\n",
    "grid = GridSearchCV(svm.LinearSVC(), param_grid={'C': [1, 10]}, scoring='f1', verbose=4)"
   ]
  },
  {
   "cell_type": "code",
   "execution_count": 10,
   "metadata": {
    "collapsed": true
   },
   "outputs": [],
   "source": [
    "X = train[['Red', 'Green', 'Blue']]\n",
    "y = train.Mask"
   ]
  },
  {
   "cell_type": "code",
   "execution_count": 11,
   "metadata": {},
   "outputs": [
    {
     "name": "stdout",
     "output_type": "stream",
     "text": [
      "Fitting 3 folds for each of 2 candidates, totalling 6 fits\n",
      "[CV] C=1 .............................................................\n",
      "[CV] .............................. C=1, score=0.797037, total= 1.4min\n",
      "[CV] C=1 .............................................................\n"
     ]
    },
    {
     "name": "stderr",
     "output_type": "stream",
     "text": [
      "[Parallel(n_jobs=1)]: Done   1 out of   1 | elapsed:  1.5min remaining:    0.0s\n"
     ]
    },
    {
     "name": "stdout",
     "output_type": "stream",
     "text": [
      "[CV] .............................. C=1, score=0.796083, total= 1.5min\n",
      "[CV] C=1 .............................................................\n"
     ]
    },
    {
     "name": "stderr",
     "output_type": "stream",
     "text": [
      "[Parallel(n_jobs=1)]: Done   2 out of   2 | elapsed:  3.0min remaining:    0.0s\n"
     ]
    },
    {
     "name": "stdout",
     "output_type": "stream",
     "text": [
      "[CV] .............................. C=1, score=0.796026, total= 1.5min\n",
      "[CV] C=10 ............................................................\n"
     ]
    },
    {
     "name": "stderr",
     "output_type": "stream",
     "text": [
      "[Parallel(n_jobs=1)]: Done   3 out of   3 | elapsed:  4.5min remaining:    0.0s\n"
     ]
    },
    {
     "name": "stdout",
     "output_type": "stream",
     "text": [
      "[CV] ............................. C=10, score=0.797079, total= 3.9min\n",
      "[CV] C=10 ............................................................\n",
      "[CV] ............................. C=10, score=0.796160, total= 4.1min\n",
      "[CV] C=10 ............................................................\n",
      "[CV] ............................. C=10, score=0.796096, total= 3.8min\n"
     ]
    },
    {
     "name": "stderr",
     "output_type": "stream",
     "text": [
      "[Parallel(n_jobs=1)]: Done   6 out of   6 | elapsed: 16.2min finished\n"
     ]
    },
    {
     "data": {
      "text/plain": [
       "GridSearchCV(cv=None, error_score='raise',\n",
       "       estimator=LinearSVC(C=1.0, class_weight=None, dual=True, fit_intercept=True,\n",
       "     intercept_scaling=1, loss='squared_hinge', max_iter=1000,\n",
       "     multi_class='ovr', penalty='l2', random_state=None, tol=0.0001,\n",
       "     verbose=0),\n",
       "       fit_params={}, iid=True, n_jobs=1, param_grid={'C': [1, 10]},\n",
       "       pre_dispatch='2*n_jobs', refit=True, return_train_score=True,\n",
       "       scoring='f1', verbose=4)"
      ]
     },
     "execution_count": 11,
     "metadata": {},
     "output_type": "execute_result"
    }
   ],
   "source": [
    "grid.fit(X, y)"
   ]
  },
  {
   "cell_type": "code",
   "execution_count": 12,
   "metadata": {},
   "outputs": [
    {
     "name": "stderr",
     "output_type": "stream",
     "text": [
      "D:\\Anaconda2\\lib\\site-packages\\ipykernel\\__main__.py:1: SettingWithCopyWarning: \n",
      "A value is trying to be set on a copy of a slice from a DataFrame.\n",
      "Try using .loc[row_indexer,col_indexer] = value instead\n",
      "\n",
      "See the caveats in the documentation: http://pandas.pydata.org/pandas-docs/stable/indexing.html#indexing-view-versus-copy\n",
      "  if __name__ == '__main__':\n",
      "D:\\Anaconda2\\lib\\site-packages\\ipykernel\\__main__.py:2: SettingWithCopyWarning: \n",
      "A value is trying to be set on a copy of a slice from a DataFrame.\n",
      "Try using .loc[row_indexer,col_indexer] = value instead\n",
      "\n",
      "See the caveats in the documentation: http://pandas.pydata.org/pandas-docs/stable/indexing.html#indexing-view-versus-copy\n",
      "  from ipykernel import kernelapp as app\n"
     ]
    }
   ],
   "source": [
    "train['PredMask'] = grid.predict(train[['Red', 'Green', 'Blue']])\n",
    "test['PredMask'] = grid.predict(test[['Red', 'Green', 'Blue']])\n"
   ]
  },
  {
   "cell_type": "code",
   "execution_count": 14,
   "metadata": {},
   "outputs": [
    {
     "name": "stdout",
     "output_type": "stream",
     "text": [
      "Train ~ Grid_LinSVC v1\n",
      "0.970031861493\n",
      "0.796441733384\n",
      "Test ~  Grid_LinSVC v1\n",
      "0.970091730418\n",
      "0.79741734359\n"
     ]
    }
   ],
   "source": [
    "import sklearn.metrics \n",
    "print \"Train ~ Grid_LinSVC v1\"\n",
    "print sklearn.metrics.accuracy_score(train.Mask,train.PredMask)\n",
    "print sklearn.metrics.f1_score(train.Mask,train.PredMask)\n",
    "\n",
    "print \"Test ~  Grid_LinSVC v1\"\n",
    "print sklearn.metrics.accuracy_score(test.Mask,test.PredMask)\n",
    "print sklearn.metrics.f1_score(test.Mask,test.PredMask)"
   ]
  },
  {
   "cell_type": "code",
   "execution_count": 15,
   "metadata": {},
   "outputs": [
    {
     "data": {
      "text/plain": [
       "['grid_linearSVC_v0.pkl']"
      ]
     },
     "execution_count": 15,
     "metadata": {},
     "output_type": "execute_result"
    }
   ],
   "source": [
    "joblib.dump(grid, 'grid_linearSVC_v0.pkl')"
   ]
  },
  {
   "cell_type": "code",
   "execution_count": 16,
   "metadata": {
    "collapsed": true
   },
   "outputs": [],
   "source": []
  },
  {
   "cell_type": "code",
   "execution_count": 30,
   "metadata": {},
   "outputs": [
    {
     "name": "stdout",
     "output_type": "stream",
     "text": [
      "E:\\SigTuple_Hack\\Train_Data\\54A84627F362.jpg\n",
      "0.977353882491\n",
      "0.0166135639508\n",
      "0.977353882491\n",
      "[[1118687   13073]\n",
      " [  12853     219]]\n",
      "E:\\SigTuple_Hack\\Train_Data\\1467973178.jpg\n",
      "0.980498652191\n",
      "0.00276072159551\n",
      "0.980498652191\n",
      "[[1053356    7908]\n",
      " [  13043      29]]\n",
      "E:\\SigTuple_Hack\\Train_Data\\017532875DDF.jpg\n",
      "0.996148093838\n",
      "0.756752222781\n",
      "0.996148093838\n",
      "[[745463    307]\n",
      " [  2593   4511]]\n",
      "E:\\SigTuple_Hack\\Train_Data\\1467973122.jpg\n",
      "0.981932632851\n",
      "0.0114802574361\n",
      "0.981932632851\n",
      "[[617658   4456]\n",
      " [  6910     66]]\n"
     ]
    }
   ],
   "source": [
    "############################################################################\n",
    "## The following can be used as a validation check\n",
    "##\n",
    "############################################################################\n",
    "\n",
    "\n",
    "import sklearn.metrics\n",
    "from scipy.misc import imread, imsave\n",
    "from sklearn.externals import joblib\n",
    "\n",
    "valList = ['54A84627F362.jpg', '1467973178.jpg', '017532875DDF.jpg', '1467973122.jpg']\n",
    "grid = joblib.load('E:\\\\SigTuple_Hack\\\\Models\\\\grid_linearSVC_v0.pkl')\n",
    "\n",
    "for img_file in valList:\n",
    "    input_file = 'E:\\\\SigTuple_Hack\\\\Train_Data\\\\' + img_file\n",
    "    mask_file = 'E:\\\\SigTuple_Hack\\\\Train_Data\\\\' + img_file[:-4] + '-mask.jpg'\n",
    "    mask_file2 = 'E:\\\\SigTuple_Hack\\\\Train_Data\\\\' + img_file[:-4] + '-mask2.jpg'\n",
    "    \n",
    "    print input_file\n",
    "    \n",
    "    # Load the image & flatten 3d to 2d .\n",
    "    imgcolor = imread(input_file)/255.0\n",
    "    imgshape = imgcolor.shape\n",
    "    imgdf = pd.DataFrame(imgcolor.transpose(2,0,1).reshape(3,-1).transpose(1,0))\n",
    "    imgdf.columns = ['Red', 'Green', 'Blue']\n",
    "    \n",
    "    # Create mask, using LinearSVC model\n",
    "    imgdf['PredMask'] = grid.predict(imgdf)\n",
    "    \n",
    "    imgmask = imread(mask_file)/255.0\n",
    "    maskShape = imgmask.shape\n",
    "    imgdf['Mask'] = imgmask.reshape(maskShape[0]*maskShape[1])\n",
    "    \n",
    "    # Update the mask column\n",
    "    imgdf.Mask[dfTrain.Mask < 0.1] = 0\n",
    "    imgdf.Mask[dfTrain.Mask > 0.9] = 1\n",
    "\n",
    "    # Calculate vanity figures\n",
    "    print sklearn.metrics.accuracy_score(imgdf.Mask, imgdf.PredMask)\n",
    "    print sklearn.metrics.f1_score(imgdf.Mask, imgdf.PredMask)\n",
    "    print sklearn.metrics.jaccard_similarity_score(imgdf.Mask, imgdf.PredMask)\n",
    "    print sklearn.metrics.confusion_matrix(imgdf.Mask, imgdf.PredMask)\n",
    "    \n",
    "    \n",
    "    \n",
    "    # Save mask in directory\n",
    "    imgmask2= imgdf['PredMask'].reshape(maskShape[0], maskShape[1])\n",
    "    imsave(mask_file2, imgmask2)\n",
    "    \n",
    "    \n",
    "    \n",
    "    "
   ]
  },
  {
   "cell_type": "code",
   "execution_count": 25,
   "metadata": {
    "collapsed": true
   },
   "outputs": [],
   "source": []
  },
  {
   "cell_type": "code",
   "execution_count": null,
   "metadata": {
    "collapsed": true
   },
   "outputs": [],
   "source": []
  }
 ],
 "metadata": {
  "anaconda-cloud": {},
  "kernelspec": {
   "display_name": "Python 3",
   "language": "python",
   "name": "python3"
  },
  "language_info": {
   "codemirror_mode": {
    "name": "ipython",
    "version": 3
   },
   "file_extension": ".py",
   "mimetype": "text/x-python",
   "name": "python",
   "nbconvert_exporter": "python",
   "pygments_lexer": "ipython3",
   "version": "3.6.3"
  }
 },
 "nbformat": 4,
 "nbformat_minor": 1
}
