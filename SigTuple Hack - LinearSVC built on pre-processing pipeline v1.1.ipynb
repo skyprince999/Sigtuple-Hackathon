{
 "cells": [
  {
   "cell_type": "code",
   "execution_count": 1,
   "metadata": {
    "collapsed": true
   },
   "outputs": [],
   "source": [
    "###### >>> POINT 4 <<<\n",
    "##  Train the model on the data collected in SigTuple Hack v1"
   ]
  },
  {
   "cell_type": "code",
   "execution_count": 4,
   "metadata": {},
   "outputs": [],
   "source": [
    "import os \n",
    "\n",
    "import cv2\n",
    "\n",
    "import pandas as pd\n",
    "import numpy as np\n",
    "np.random.seed(1337)  # for reproducibility\n",
    "\n",
    "from skimage import filters\n",
    "\n",
    "from sklearn import svm, metrics \n",
    "from sklearn.externals import joblib\n",
    "#from sklearn.cross_validation import train_test_split\n",
    "from sklearn.model_selection import train_test_split, GridSearchCV\n",
    "\n",
    "import scipy.misc\n",
    "from scipy.misc import imread\n",
    "import matplotlib.pyplot as plt\n",
    "\n",
    "%matplotlib inline"
   ]
  },
  {
   "cell_type": "code",
   "execution_count": 16,
   "metadata": {},
   "outputs": [],
   "source": [
    "dfTrain = pd.read_csv('TrainFilters.csv')"
   ]
  },
  {
   "cell_type": "code",
   "execution_count": 18,
   "metadata": {},
   "outputs": [
    {
     "name": "stdout",
     "output_type": "stream",
     "text": [
      "(6414012, 20)\n",
      "Index([u'BiFi', u'Blue', u'BlueB', u'BlueHSV', u'BlueO', u'Blur', u'Green',\n",
      "       u'GreenB', u'GreenHSV', u'GreenO', u'Markers', u'Mask', u'Median',\n",
      "       u'NoiseK', u'OTSU', u'Red', u'RedB', u'RedHSV', u'RedO', u'Th1'],\n",
      "      dtype='object')\n"
     ]
    }
   ],
   "source": [
    "dfTrain.drop('Unnamed: 0', axis=1, inplace = True)\n",
    "print dfTrain.shape\n",
    "print dfTrain.columns"
   ]
  },
  {
   "cell_type": "code",
   "execution_count": 41,
   "metadata": {
    "collapsed": true
   },
   "outputs": [],
   "source": [
    "dfTrain.drop('OTSU', axis=1, inplace = True)"
   ]
  },
  {
   "cell_type": "code",
   "execution_count": 42,
   "metadata": {},
   "outputs": [
    {
     "data": {
      "text/plain": [
       "0.08352712779458474"
      ]
     },
     "execution_count": 42,
     "metadata": {},
     "output_type": "execute_result"
    }
   ],
   "source": [
    "dfTrain.Mask.mean()"
   ]
  },
  {
   "cell_type": "code",
   "execution_count": 43,
   "metadata": {
    "collapsed": true
   },
   "outputs": [],
   "source": [
    "dfTrain.fillna(value = 0, inplace = True) "
   ]
  },
  {
   "cell_type": "code",
   "execution_count": 44,
   "metadata": {},
   "outputs": [
    {
     "name": "stdout",
     "output_type": "stream",
     "text": [
      "(3207006, 19)\n",
      "(3207006, 19)\n"
     ]
    }
   ],
   "source": [
    "train, test = train_test_split(dfTrain, test_size = 0.5)\n",
    "#validate, test = train_test_split(test, test_size = 0.5)\n",
    "\n",
    "print train.shape\n",
    "#print validate.shape\n",
    "print test.shape"
   ]
  },
  {
   "cell_type": "code",
   "execution_count": 45,
   "metadata": {},
   "outputs": [],
   "source": [
    "lin_clf = svm.LinearSVC(verbose =5)\n",
    "\n",
    "X = train.drop('Mask', axis=1)\n",
    "y = train['Mask']"
   ]
  },
  {
   "cell_type": "code",
   "execution_count": 46,
   "metadata": {},
   "outputs": [
    {
     "name": "stdout",
     "output_type": "stream",
     "text": [
      "[LibLinear]"
     ]
    },
    {
     "data": {
      "text/plain": [
       "LinearSVC(C=1.0, class_weight=None, dual=True, fit_intercept=True,\n",
       "     intercept_scaling=1, loss='squared_hinge', max_iter=1000,\n",
       "     multi_class='ovr', penalty='l2', random_state=None, tol=0.0001,\n",
       "     verbose=5)"
      ]
     },
     "execution_count": 46,
     "metadata": {},
     "output_type": "execute_result"
    }
   ],
   "source": [
    "lin_clf.fit(X, y)"
   ]
  },
  {
   "cell_type": "code",
   "execution_count": 47,
   "metadata": {},
   "outputs": [
    {
     "data": {
      "text/plain": [
       "['linearSVC_v3_filter.pkl']"
      ]
     },
     "execution_count": 47,
     "metadata": {},
     "output_type": "execute_result"
    }
   ],
   "source": [
    "# Save the model\n",
    "joblib.dump(lin_clf, 'linearSVC_v3_filter.pkl')"
   ]
  },
  {
   "cell_type": "code",
   "execution_count": 48,
   "metadata": {
    "collapsed": true
   },
   "outputs": [],
   "source": [
    "def img3d2d(image, listCols):\n",
    "    imgdf = pd.DataFrame(image.transpose(2,0,1).reshape(3,-1).transpose(1,0))\n",
    "    imgdf.columns = listCols\n",
    "    return imgdf"
   ]
  },
  {
   "cell_type": "code",
   "execution_count": 49,
   "metadata": {
    "collapsed": true
   },
   "outputs": [],
   "source": [
    "## Read the test files\n",
    "ip_files = []\n",
    "test_files = os.listdir('E:\\\\SigTuple_Hack\\\\Test_Data\\\\')\n",
    "ip_files += [f for f in test_files if f.endswith('.jpg') and 'mask' not in f]\n"
   ]
  },
  {
   "cell_type": "code",
   "execution_count": 51,
   "metadata": {},
   "outputs": [
    {
     "name": "stdout",
     "output_type": "stream",
     "text": [
      "E:\\SigTuple_Hack\\Test_Data\\017532875DDF.jpg\n",
      "E:\\SigTuple_Hack\\Test_Data\\029E137BB177.jpg\n",
      "E:\\SigTuple_Hack\\Test_Data\\029E137BB179.jpg\n",
      "E:\\SigTuple_Hack\\Test_Data\\072CBBB64F88.jpg\n",
      "E:\\SigTuple_Hack\\Test_Data\\072CBBB64F89.jpg\n",
      "E:\\SigTuple_Hack\\Test_Data\\0BC2C60F3BA0.jpg\n",
      "E:\\SigTuple_Hack\\Test_Data\\1468054105.jpg\n",
      "E:\\SigTuple_Hack\\Test_Data\\1468054163.jpg\n",
      "E:\\SigTuple_Hack\\Test_Data\\1468054267.jpg\n",
      "E:\\SigTuple_Hack\\Test_Data\\1468054306.jpg\n",
      "E:\\SigTuple_Hack\\Test_Data\\1468061314.jpg\n",
      "E:\\SigTuple_Hack\\Test_Data\\1468061317.jpg\n",
      "E:\\SigTuple_Hack\\Test_Data\\1468061347.jpg\n",
      "E:\\SigTuple_Hack\\Test_Data\\1468061368.jpg\n",
      "E:\\SigTuple_Hack\\Test_Data\\1468061411.jpg\n",
      "E:\\SigTuple_Hack\\Test_Data\\16B1C9836EB0.jpg\n",
      "E:\\SigTuple_Hack\\Test_Data\\264882623008.jpg\n",
      "E:\\SigTuple_Hack\\Test_Data\\2D6D41F5B4A1.jpg\n",
      "E:\\SigTuple_Hack\\Test_Data\\308A1C309EF5.jpg\n",
      "E:\\SigTuple_Hack\\Test_Data\\31A25DC60455.jpg\n",
      "E:\\SigTuple_Hack\\Test_Data\\31A25DC60456.jpg\n",
      "E:\\SigTuple_Hack\\Test_Data\\34DBA85D4F7A.jpg\n",
      "E:\\SigTuple_Hack\\Test_Data\\34DBA85D4F7E.jpg\n",
      "E:\\SigTuple_Hack\\Test_Data\\469CE8C373A0.jpg\n",
      "E:\\SigTuple_Hack\\Test_Data\\469CE8C373AC.jpg\n",
      "E:\\SigTuple_Hack\\Test_Data\\5274941329CC.jpg\n",
      "E:\\SigTuple_Hack\\Test_Data\\5274941329CF.jpg\n",
      "E:\\SigTuple_Hack\\Test_Data\\52B380E6A3F1.jpg\n",
      "E:\\SigTuple_Hack\\Test_Data\\52B380E6A3F2.jpg\n",
      "E:\\SigTuple_Hack\\Test_Data\\549C148B2D40.jpg\n",
      "E:\\SigTuple_Hack\\Test_Data\\549C148B2D4E.jpg\n",
      "E:\\SigTuple_Hack\\Test_Data\\558DF2AD8A5F.jpg\n",
      "E:\\SigTuple_Hack\\Test_Data\\5ABD740F7441.jpg\n",
      "E:\\SigTuple_Hack\\Test_Data\\5ABD740F744D.jpg\n",
      "E:\\SigTuple_Hack\\Test_Data\\5C75353DF081.jpg\n",
      "E:\\SigTuple_Hack\\Test_Data\\5C75353DF082.jpg\n",
      "E:\\SigTuple_Hack\\Test_Data\\682E28C9537E.jpg\n",
      "E:\\SigTuple_Hack\\Test_Data\\7D00B08A7B2D.jpg\n",
      "E:\\SigTuple_Hack\\Test_Data\\85639DF5DF72.jpg\n",
      "E:\\SigTuple_Hack\\Test_Data\\85639DF5DF7C.jpg\n",
      "E:\\SigTuple_Hack\\Test_Data\\8A87C3794B59.jpg\n",
      "E:\\SigTuple_Hack\\Test_Data\\BB6EB0F294D8.jpg\n",
      "E:\\SigTuple_Hack\\Test_Data\\BB6EB0F294DA.jpg\n",
      "E:\\SigTuple_Hack\\Test_Data\\C11E6107F913.jpg\n",
      "E:\\SigTuple_Hack\\Test_Data\\C3AC084EA711.jpg\n",
      "E:\\SigTuple_Hack\\Test_Data\\C4D8C497AB5C.jpg\n",
      "E:\\SigTuple_Hack\\Test_Data\\CD406B9D61C4.jpg\n",
      "E:\\SigTuple_Hack\\Test_Data\\CD406B9D61CE.jpg\n",
      "E:\\SigTuple_Hack\\Test_Data\\D0F6DE661D63.jpg\n",
      "E:\\SigTuple_Hack\\Test_Data\\D0F6DE661D64.jpg\n",
      "E:\\SigTuple_Hack\\Test_Data\\D0F6DE661D65.jpg\n",
      "E:\\SigTuple_Hack\\Test_Data\\D28CDF85BDA3.jpg\n",
      "E:\\SigTuple_Hack\\Test_Data\\D91DD06F9B3D.jpg\n",
      "E:\\SigTuple_Hack\\Test_Data\\D91DD06F9B3E.jpg\n",
      "E:\\SigTuple_Hack\\Test_Data\\DFC9150DB405.jpg\n",
      "E:\\SigTuple_Hack\\Test_Data\\E04FFD273493.jpg\n",
      "E:\\SigTuple_Hack\\Test_Data\\E04FFD273499.jpg\n",
      "E:\\SigTuple_Hack\\Test_Data\\E3084BAFECCD.jpg\n",
      "E:\\SigTuple_Hack\\Test_Data\\E89EFB01CEB9.jpg\n",
      "E:\\SigTuple_Hack\\Test_Data\\EB2EFD28E53E.jpg\n",
      "E:\\SigTuple_Hack\\Test_Data\\F1BFEA74B33D.jpg\n"
     ]
    }
   ],
   "source": [
    "# Load the model & process the test files\n",
    "lin_clf = joblib.load('linearSVC_v3_filter.pkl')\n",
    "for img_file in ip_files:\n",
    "    input_file = 'E:\\\\SigTuple_Hack\\\\Test_Data\\\\' + img_file\n",
    "    mask_file = 'E:\\\\SigTuple_Hack\\\\Test_Data\\\\Mask\\\\' + img_file[:-4] + '-mask.jpg'\n",
    "    print input_file\n",
    "    \n",
    "    # Load the image \n",
    "    imgcolor = cv2.imread(input_file)\n",
    "    imgShape = imgcolor.shape\n",
    "    \n",
    "    imageDF = img3d2d(imgcolor, ['Red', 'Green', 'Blue'])\n",
    "    \n",
    "    \n",
    "    # Convert BGR to HSV and gray scale image\n",
    "    imghsv = cv2.cvtColor(imgcolor, cv2.COLOR_BGR2HSV)\n",
    "    imggray = cv2.cvtColor(imgcolor, cv2.COLOR_BGR2GRAY)\n",
    "    imageDF = pd.concat([imageDF ,img3d2d(imghsv, ['RedHSV', 'GreenHSV', 'BlueHSV'])], axis = 1) \n",
    "    \n",
    "    # Create filter with threshold using OTSU binarization\n",
    "    val = filters.threshold_otsu(imggray)\n",
    "    imgotsu = imgcolor < val    \n",
    "    imageDF = pd.concat([imageDF ,img3d2d(imgotsu, ['RedO', 'GreenO', 'BlueO'])], axis = 1) \n",
    "    \n",
    "    # Create markers using watershed technique\n",
    "    # Create an approximate estimation of the cells by using OTSU binarization\n",
    "    ret, thresh = cv2.threshold(imggray,0,255,cv2.THRESH_BINARY_INV+cv2.THRESH_OTSU)\n",
    "    \n",
    "    # noise removal ## >>>> Only using the noise removal on the pic with an iteration of 15 gives a 0.65\n",
    "                    ## This is actually less than the one with a pure ML solution\n",
    "    kernel = np.ones((3,3),np.uint8)\n",
    "    imgopening = cv2.morphologyEx(thresh,cv2.MORPH_OPEN,kernel, iterations = 15)\n",
    "    imageDF['NoiseK'] = imgopening.reshape(imgShape[0]*imgShape[1])\n",
    "    \n",
    "    opening = cv2.morphologyEx(thresh,cv2.MORPH_OPEN,kernel, iterations = 5)\n",
    "    # sure background area\n",
    "    sure_bg = cv2.dilate(opening,kernel,iterations=3)\n",
    "\n",
    "    # Finding sure foreground area\n",
    "    dist_transform = cv2.distanceTransform(opening,cv2.DIST_L2,5)\n",
    "    ret, sure_fg = cv2.threshold(dist_transform,0.7*dist_transform.max(),255,0)\n",
    "\n",
    "    # Finding unknown region\n",
    "    sure_fg = np.uint8(sure_fg)\n",
    "    unknown = cv2.subtract(sure_bg,sure_fg)\n",
    "\n",
    "    # Marker labelling\n",
    "    ret, markers = cv2.connectedComponents(sure_fg)\n",
    "    # Add one to all labels so that sure background is not 0, but 1\n",
    "    imgmarkers = markers+1\n",
    "    # Now, mark the region of unknown with zero\n",
    "    imgmarkers[unknown==255] = 0\n",
    "    \n",
    "    imageDF['Markers'] = imgmarkers.reshape(imgShape[0]*imgShape[1])\n",
    "    \n",
    "    # define range of blue color in HSV\n",
    "    lower_wbc = np.array([120,240,150])\n",
    "    upper_wbc = np.array([135,255,180])\n",
    "    # Threshold the HSV image to get only blue colors\n",
    "    mask = cv2.inRange(imghsv, lower_wbc, upper_wbc)\n",
    "    # Bitwise-AND mask and original image\n",
    "    imgBlue = cv2.bitwise_and(imghsv,imghsv, mask= mask)\n",
    "    imageDF = pd.concat([imageDF,img3d2d(imghsv, ['RedB', 'GreenB', 'BlueB'])], axis = 1)\n",
    "        \n",
    "        \n",
    "    ret,th1 = cv2.threshold(imggray,127,255,cv2.THRESH_BINARY)\n",
    "    imgTh1 = cv2.bitwise_not(th1)\n",
    "    imageDF['Th1'] = imgTh1.reshape(imgShape[0]*imgShape[1])\n",
    "    \n",
    "    imgblur = cv2.blur(imgTh1, (10,10))\n",
    "    imgmedian = cv2.medianBlur(imgTh1,7)\n",
    "    imgbiF = cv2.bilateralFilter(imgTh1,5,75,75)\n",
    "    \n",
    "    imageDF['Blur'] = imgblur.reshape(imgShape[0]*imgShape[1])\n",
    "    imageDF['Median'] = imgmedian.reshape(imgShape[0]*imgShape[1])\n",
    "    imageDF['BiFi'] = imgbiF.reshape(imgShape[0]*imgShape[1])\n",
    "    \n",
    "    # Create mask, using LinearSVC model\n",
    "    mask = lin_clf.predict(imageDF)\n",
    "    imgmask = mask.reshape(imgShape[0], imgShape[1])\n",
    "    # Save file\n",
    "    scipy.misc.imsave(mask_file, imgmask)\n",
    "    #imageDF['PredMask'] = mask\n",
    "    \n",
    "    # Inserting the mask bit\n",
    "     # Load mask and append to temp df\n",
    "    #imgmask = cv2.imread(mask_file)/255.0\n",
    "    #temp = rgb2gray(imgmask)\n",
    "    #maskShape = temp.shape\n",
    "    #imageDF['Mask'] = temp.reshape(maskShape[0]*maskShape[1])\n",
    "    \n",
    "    \n",
    "    "
   ]
  },
  {
   "cell_type": "code",
   "execution_count": null,
   "metadata": {
    "collapsed": true
   },
   "outputs": [],
   "source": []
  }
 ],
 "metadata": {
  "kernelspec": {
   "display_name": "Python 3",
   "language": "python",
   "name": "python3"
  },
  "language_info": {
   "codemirror_mode": {
    "name": "ipython",
    "version": 3
   },
   "file_extension": ".py",
   "mimetype": "text/x-python",
   "name": "python",
   "nbconvert_exporter": "python",
   "pygments_lexer": "ipython3",
   "version": "3.6.3"
  }
 },
 "nbformat": 4,
 "nbformat_minor": 1
}
