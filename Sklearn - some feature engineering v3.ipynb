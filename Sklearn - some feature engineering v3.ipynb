{
 "cells": [
  {
   "cell_type": "code",
   "execution_count": 1,
   "metadata": {
    "collapsed": true
   },
   "outputs": [],
   "source": [
    "##################################################################################\n",
    "## This uses the model checks if we can perform some feature extraction\n",
    "## To improve accuracy of mask prediction\n",
    "##################################################################################\n"
   ]
  },
  {
   "cell_type": "code",
   "execution_count": 2,
   "metadata": {},
   "outputs": [
    {
     "name": "stderr",
     "output_type": "stream",
     "text": [
      "D:\\Anaconda2\\lib\\site-packages\\sklearn\\cross_validation.py:44: DeprecationWarning: This module was deprecated in version 0.18 in favor of the model_selection module into which all the refactored classes and functions are moved. Also note that the interface of the new CV iterators are different from that of this module. This module will be removed in 0.20.\n",
      "  \"This module will be removed in 0.20.\", DeprecationWarning)\n"
     ]
    }
   ],
   "source": [
    "import os\n",
    "import sys\n",
    "\n",
    "import pandas as pd\n",
    "import numpy as np\n",
    "np.random.seed(1337)  # for reproducibility\n",
    "\n",
    "from sklearn import svm\n",
    "from sklearn.externals import joblib\n",
    "from sklearn.cross_validation import train_test_split\n",
    "from sklearn.model_selection import GridSearchCV\n",
    "\n",
    "import sklearn.metrics\n",
    "from scipy.misc import imread, imsave\n",
    "from sklearn.externals import joblib\n",
    "\n",
    "from matplotlib import pyplot as ppl\n",
    "import matplotlib.pyplot as plt\n",
    "\n",
    "%matplotlib inline"
   ]
  },
  {
   "cell_type": "code",
   "execution_count": 3,
   "metadata": {
    "collapsed": true
   },
   "outputs": [],
   "source": [
    "ip_files = []\n",
    "train_files = os.listdir('E:\\\\SigTuple_Hack\\\\Train_Data\\\\')\n",
    "ip_files += [f for f in train_files if f.endswith('.jpg') and 'mask' not in f]\n",
    "\n",
    "#test_files = os.listdir('E:\\\\SigTuple_Hack\\\\Test_Data\\\\')\n",
    "#ip_files += [f for f in test_files if f.endswith('.jpg') and 'mask' not in f]\n",
    "\n",
    "#ip_files"
   ]
  },
  {
   "cell_type": "code",
   "execution_count": 4,
   "metadata": {
    "collapsed": true
   },
   "outputs": [],
   "source": [
    "# Import sklearns image extraction submodule\n",
    "from sklearn.feature_extraction import image\n",
    "from sklearn.cluster import spectral_clustering"
   ]
  },
  {
   "cell_type": "code",
   "execution_count": 5,
   "metadata": {
    "collapsed": true
   },
   "outputs": [],
   "source": [
    "img_file = ip_files[0]\n",
    "input_file = 'E:\\\\SigTuple_Hack\\\\Train_Data\\\\' + img_file"
   ]
  },
  {
   "cell_type": "code",
   "execution_count": 6,
   "metadata": {
    "collapsed": true
   },
   "outputs": [],
   "source": [
    "# Load the image & flatten 3d to 2d .\n",
    "imgcolor = imread(input_file)/255.0"
   ]
  },
  {
   "cell_type": "code",
   "execution_count": 7,
   "metadata": {
    "collapsed": true
   },
   "outputs": [],
   "source": [
    "mask = imgcolor.astype(bool)"
   ]
  },
  {
   "cell_type": "code",
   "execution_count": 8,
   "metadata": {},
   "outputs": [],
   "source": [
    "# Convert the image into a graph with the value of the gradient on the\n",
    "# edges.\n",
    "graph = image.img_to_graph(imgcolor, mask=mask)"
   ]
  },
  {
   "cell_type": "code",
   "execution_count": 9,
   "metadata": {
    "collapsed": true
   },
   "outputs": [],
   "source": [
    "# Take a decreasing function of the gradient: we take it weakly\n",
    "# dependent from the gradient the segmentation is close to a voronoi\n",
    "graph.data = np.exp(-graph.data / graph.data.std())"
   ]
  },
  {
   "cell_type": "code",
   "execution_count": null,
   "metadata": {
    "collapsed": true
   },
   "outputs": [],
   "source": [
    "#### >>>> THIS IS TAKING TOO MUCH TIME AND HENCE COMMENTING IT OUT\n",
    "####\n",
    "# Force the solver to be arpack, since amg is numerically\n",
    "# unstable on this example\n",
    "\n",
    "#labels = spectral_clustering(graph, n_clusters=4, eigen_solver='arpack')"
   ]
  },
  {
   "cell_type": "code",
   "execution_count": null,
   "metadata": {
    "collapsed": true
   },
   "outputs": [],
   "source": [
    "label_im = -np.ones(mask.shape)\n",
    "label_im[mask] = labels"
   ]
  },
  {
   "cell_type": "code",
   "execution_count": null,
   "metadata": {
    "collapsed": true
   },
   "outputs": [],
   "source": [
    "plt.matshow(img)\n",
    "plt.matshow(label_im)"
   ]
  }
 ],
 "metadata": {
  "anaconda-cloud": {},
  "kernelspec": {
   "display_name": "Python 3",
   "language": "python",
   "name": "python3"
  },
  "language_info": {
   "codemirror_mode": {
    "name": "ipython",
    "version": 3
   },
   "file_extension": ".py",
   "mimetype": "text/x-python",
   "name": "python",
   "nbconvert_exporter": "python",
   "pygments_lexer": "ipython3",
   "version": "3.6.3"
  }
 },
 "nbformat": 4,
 "nbformat_minor": 1
}
