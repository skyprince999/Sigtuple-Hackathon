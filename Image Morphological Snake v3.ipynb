{
 "cells": [
  {
   "cell_type": "code",
   "execution_count": 1,
   "metadata": {
    "collapsed": true
   },
   "outputs": [],
   "source": [
    "##################################################################################\n",
    "## This will create a flat file from each of the images, and combine it with the \n",
    "## mask. This will give a 1 for each pixel which is a mask and a 0 for every pixel\n",
    "## that is not part of the mask \n",
    "##################################################################################\n"
   ]
  },
  {
   "cell_type": "code",
   "execution_count": 2,
   "metadata": {
    "collapsed": true
   },
   "outputs": [],
   "source": [
    "import os\n",
    "import sys\n",
    "\n",
    "sys.path.append(\"E:\\\\morphsnakes-master\")\n",
    "import morphsnakes\n",
    "\n",
    "import numpy as np\n",
    "import pandas as pd\n",
    "\n",
    "from scipy.misc import imread\n",
    "import scipy.misc\n",
    "\n",
    "from skimage import data\n",
    "from skimage import filters\n",
    "\n",
    "from matplotlib import pyplot as ppl\n",
    "import matplotlib.pyplot as plt\n",
    "\n",
    "%matplotlib inline"
   ]
  },
  {
   "cell_type": "code",
   "execution_count": 3,
   "metadata": {
    "collapsed": true
   },
   "outputs": [],
   "source": [
    "def rgb2gray(img):\n",
    "    \"\"\"Convert a RGB image to gray scale.\"\"\"\n",
    "    return 0.2989*img[:,:,0] + 0.587*img[:,:,1] + 0.114*img[:,:,2]\n",
    "\n",
    "def circle_levelset(shape, center, sqradius, scalerow=1.0):\n",
    "    \"\"\"Build a binary function with a circle as the 0.5-levelset.\"\"\"\n",
    "    grid = np.mgrid[list(map(slice, shape))].T - center\n",
    "    phi = sqradius - np.sqrt(np.sum((grid.T)**2, 0))\n",
    "    u = np.float_(phi > 0)\n",
    "    return u\n",
    "\n"
   ]
  },
  {
   "cell_type": "code",
   "execution_count": 4,
   "metadata": {
    "collapsed": true
   },
   "outputs": [],
   "source": [
    "ip_files = []\n",
    "train_files = os.listdir('E:\\\\SigTuple_Hack\\\\Train_Data\\\\')\n",
    "ip_files += [f for f in train_files if f.endswith('.jpg') and 'mask' not in f]\n",
    "\n",
    "#test_files = os.listdir('E:\\\\SigTuple_Hack\\\\Test_Data\\\\')\n",
    "#ip_files += [f for f in test_files if f.endswith('.jpg') and 'mask' not in f]\n",
    "\n",
    "#ip_files"
   ]
  },
  {
   "cell_type": "code",
   "execution_count": 5,
   "metadata": {
    "scrolled": true
   },
   "outputs": [
    {
     "name": "stdout",
     "output_type": "stream",
     "text": [
      "E:\\SigTuple_Hack\\Train_Data\\017532875DDF.jpg\n",
      "E:\\SigTuple_Hack\\Train_Data\\1467973104.jpg\n",
      "E:\\SigTuple_Hack\\Train_Data\\1467973122.jpg\n",
      "E:\\SigTuple_Hack\\Train_Data\\1467973178.jpg\n",
      "E:\\SigTuple_Hack\\Train_Data\\54A84627F362.jpg\n",
      "E:\\SigTuple_Hack\\Train_Data\\train-0.jpg\n",
      "E:\\SigTuple_Hack\\Train_Data\\train-1.jpg\n",
      "E:\\SigTuple_Hack\\Train_Data\\train-10.jpg\n",
      "E:\\SigTuple_Hack\\Train_Data\\train-100.jpg\n",
      "E:\\SigTuple_Hack\\Train_Data\\train-101.jpg\n",
      "E:\\SigTuple_Hack\\Train_Data\\train-102.jpg\n",
      "E:\\SigTuple_Hack\\Train_Data\\train-103.jpg\n",
      "E:\\SigTuple_Hack\\Train_Data\\train-104.jpg\n",
      "E:\\SigTuple_Hack\\Train_Data\\train-105.jpg\n",
      "E:\\SigTuple_Hack\\Train_Data\\train-106.jpg\n",
      "E:\\SigTuple_Hack\\Train_Data\\train-107.jpg\n",
      "E:\\SigTuple_Hack\\Train_Data\\train-108.jpg\n",
      "E:\\SigTuple_Hack\\Train_Data\\train-109.jpg\n",
      "E:\\SigTuple_Hack\\Train_Data\\train-11.jpg\n",
      "E:\\SigTuple_Hack\\Train_Data\\train-110.jpg\n",
      "E:\\SigTuple_Hack\\Train_Data\\train-111.jpg\n",
      "E:\\SigTuple_Hack\\Train_Data\\train-112.jpg\n",
      "E:\\SigTuple_Hack\\Train_Data\\train-113.jpg\n",
      "E:\\SigTuple_Hack\\Train_Data\\train-114.jpg\n",
      "E:\\SigTuple_Hack\\Train_Data\\train-115.jpg\n",
      "E:\\SigTuple_Hack\\Train_Data\\train-116.jpg\n",
      "E:\\SigTuple_Hack\\Train_Data\\train-117.jpg\n",
      "E:\\SigTuple_Hack\\Train_Data\\train-118.jpg\n",
      "E:\\SigTuple_Hack\\Train_Data\\train-119.jpg\n",
      "E:\\SigTuple_Hack\\Train_Data\\train-12.jpg\n",
      "E:\\SigTuple_Hack\\Train_Data\\train-120.jpg\n",
      "E:\\SigTuple_Hack\\Train_Data\\train-121.jpg\n",
      "E:\\SigTuple_Hack\\Train_Data\\train-122.jpg\n",
      "E:\\SigTuple_Hack\\Train_Data\\train-123.jpg\n",
      "E:\\SigTuple_Hack\\Train_Data\\train-124.jpg\n",
      "E:\\SigTuple_Hack\\Train_Data\\train-125.jpg\n",
      "E:\\SigTuple_Hack\\Train_Data\\train-126.jpg\n",
      "E:\\SigTuple_Hack\\Train_Data\\train-127.jpg\n",
      "E:\\SigTuple_Hack\\Train_Data\\train-128.jpg\n",
      "E:\\SigTuple_Hack\\Train_Data\\train-129.jpg\n",
      "E:\\SigTuple_Hack\\Train_Data\\train-13.jpg\n",
      "E:\\SigTuple_Hack\\Train_Data\\train-130.jpg\n",
      "E:\\SigTuple_Hack\\Train_Data\\train-131.jpg\n",
      "E:\\SigTuple_Hack\\Train_Data\\train-132.jpg\n",
      "E:\\SigTuple_Hack\\Train_Data\\train-133.jpg\n",
      "E:\\SigTuple_Hack\\Train_Data\\train-134.jpg\n",
      "E:\\SigTuple_Hack\\Train_Data\\train-135.jpg\n",
      "E:\\SigTuple_Hack\\Train_Data\\train-136.jpg\n",
      "E:\\SigTuple_Hack\\Train_Data\\train-137.jpg\n",
      "E:\\SigTuple_Hack\\Train_Data\\train-138.jpg\n",
      "E:\\SigTuple_Hack\\Train_Data\\train-139.jpg\n",
      "E:\\SigTuple_Hack\\Train_Data\\train-14.jpg\n",
      "E:\\SigTuple_Hack\\Train_Data\\train-140.jpg\n",
      "E:\\SigTuple_Hack\\Train_Data\\train-141.jpg\n",
      "E:\\SigTuple_Hack\\Train_Data\\train-142.jpg\n",
      "E:\\SigTuple_Hack\\Train_Data\\train-143.jpg\n",
      "E:\\SigTuple_Hack\\Train_Data\\train-144.jpg\n",
      "E:\\SigTuple_Hack\\Train_Data\\train-145.jpg\n",
      "E:\\SigTuple_Hack\\Train_Data\\train-146.jpg\n",
      "E:\\SigTuple_Hack\\Train_Data\\train-147.jpg\n",
      "E:\\SigTuple_Hack\\Train_Data\\train-148.jpg\n",
      "E:\\SigTuple_Hack\\Train_Data\\train-149.jpg\n",
      "E:\\SigTuple_Hack\\Train_Data\\train-15.jpg\n",
      "E:\\SigTuple_Hack\\Train_Data\\train-150.jpg\n",
      "E:\\SigTuple_Hack\\Train_Data\\train-151.jpg\n",
      "E:\\SigTuple_Hack\\Train_Data\\train-152.jpg\n",
      "E:\\SigTuple_Hack\\Train_Data\\train-153.jpg\n",
      "E:\\SigTuple_Hack\\Train_Data\\train-154.jpg\n",
      "E:\\SigTuple_Hack\\Train_Data\\train-155.jpg\n",
      "E:\\SigTuple_Hack\\Train_Data\\train-156.jpg\n",
      "E:\\SigTuple_Hack\\Train_Data\\train-157.jpg\n",
      "E:\\SigTuple_Hack\\Train_Data\\train-158.jpg\n",
      "E:\\SigTuple_Hack\\Train_Data\\train-159.jpg\n",
      "E:\\SigTuple_Hack\\Train_Data\\train-16.jpg\n",
      "E:\\SigTuple_Hack\\Train_Data\\train-160.jpg\n",
      "E:\\SigTuple_Hack\\Train_Data\\train-161.jpg\n",
      "E:\\SigTuple_Hack\\Train_Data\\train-162.jpg\n",
      "E:\\SigTuple_Hack\\Train_Data\\train-163.jpg\n",
      "E:\\SigTuple_Hack\\Train_Data\\train-17.jpg\n",
      "E:\\SigTuple_Hack\\Train_Data\\train-18.jpg\n",
      "E:\\SigTuple_Hack\\Train_Data\\train-19.jpg\n",
      "E:\\SigTuple_Hack\\Train_Data\\train-2.jpg\n",
      "E:\\SigTuple_Hack\\Train_Data\\train-20.jpg\n",
      "E:\\SigTuple_Hack\\Train_Data\\train-21.jpg\n",
      "E:\\SigTuple_Hack\\Train_Data\\train-22.jpg\n",
      "E:\\SigTuple_Hack\\Train_Data\\train-23.jpg\n",
      "E:\\SigTuple_Hack\\Train_Data\\train-24.jpg\n",
      "E:\\SigTuple_Hack\\Train_Data\\train-25.jpg\n",
      "E:\\SigTuple_Hack\\Train_Data\\train-26.jpg\n",
      "E:\\SigTuple_Hack\\Train_Data\\train-27.jpg\n",
      "E:\\SigTuple_Hack\\Train_Data\\train-28.jpg\n",
      "E:\\SigTuple_Hack\\Train_Data\\train-29.jpg\n",
      "E:\\SigTuple_Hack\\Train_Data\\train-3.jpg\n",
      "E:\\SigTuple_Hack\\Train_Data\\train-30.jpg\n",
      "E:\\SigTuple_Hack\\Train_Data\\train-31.jpg\n",
      "E:\\SigTuple_Hack\\Train_Data\\train-32.jpg\n",
      "E:\\SigTuple_Hack\\Train_Data\\train-33.jpg\n",
      "E:\\SigTuple_Hack\\Train_Data\\train-34.jpg\n",
      "E:\\SigTuple_Hack\\Train_Data\\train-35.jpg\n",
      "E:\\SigTuple_Hack\\Train_Data\\train-36.jpg\n",
      "E:\\SigTuple_Hack\\Train_Data\\train-37.jpg\n",
      "E:\\SigTuple_Hack\\Train_Data\\train-38.jpg\n",
      "E:\\SigTuple_Hack\\Train_Data\\train-39.jpg\n",
      "E:\\SigTuple_Hack\\Train_Data\\train-4.jpg\n",
      "E:\\SigTuple_Hack\\Train_Data\\train-40.jpg\n",
      "E:\\SigTuple_Hack\\Train_Data\\train-41.jpg\n",
      "E:\\SigTuple_Hack\\Train_Data\\train-42.jpg\n",
      "E:\\SigTuple_Hack\\Train_Data\\train-43.jpg\n",
      "E:\\SigTuple_Hack\\Train_Data\\train-44.jpg\n",
      "E:\\SigTuple_Hack\\Train_Data\\train-45.jpg\n",
      "E:\\SigTuple_Hack\\Train_Data\\train-46.jpg\n",
      "E:\\SigTuple_Hack\\Train_Data\\train-47.jpg\n",
      "E:\\SigTuple_Hack\\Train_Data\\train-48.jpg\n",
      "E:\\SigTuple_Hack\\Train_Data\\train-49.jpg\n",
      "E:\\SigTuple_Hack\\Train_Data\\train-5.jpg\n",
      "E:\\SigTuple_Hack\\Train_Data\\train-50.jpg\n",
      "E:\\SigTuple_Hack\\Train_Data\\train-51.jpg\n",
      "E:\\SigTuple_Hack\\Train_Data\\train-52.jpg\n",
      "E:\\SigTuple_Hack\\Train_Data\\train-53.jpg\n",
      "E:\\SigTuple_Hack\\Train_Data\\train-54.jpg\n",
      "E:\\SigTuple_Hack\\Train_Data\\train-55.jpg\n",
      "E:\\SigTuple_Hack\\Train_Data\\train-56.jpg\n",
      "E:\\SigTuple_Hack\\Train_Data\\train-57.jpg\n",
      "E:\\SigTuple_Hack\\Train_Data\\train-58.jpg\n",
      "E:\\SigTuple_Hack\\Train_Data\\train-59.jpg\n",
      "E:\\SigTuple_Hack\\Train_Data\\train-6.jpg\n",
      "E:\\SigTuple_Hack\\Train_Data\\train-60.jpg\n",
      "E:\\SigTuple_Hack\\Train_Data\\train-61.jpg\n",
      "E:\\SigTuple_Hack\\Train_Data\\train-62.jpg\n",
      "E:\\SigTuple_Hack\\Train_Data\\train-63.jpg\n",
      "E:\\SigTuple_Hack\\Train_Data\\train-64.jpg\n",
      "E:\\SigTuple_Hack\\Train_Data\\train-65.jpg\n",
      "E:\\SigTuple_Hack\\Train_Data\\train-66.jpg\n",
      "E:\\SigTuple_Hack\\Train_Data\\train-67.jpg\n",
      "E:\\SigTuple_Hack\\Train_Data\\train-68.jpg\n",
      "E:\\SigTuple_Hack\\Train_Data\\train-69.jpg\n",
      "E:\\SigTuple_Hack\\Train_Data\\train-7.jpg\n",
      "E:\\SigTuple_Hack\\Train_Data\\train-70.jpg\n",
      "E:\\SigTuple_Hack\\Train_Data\\train-71.jpg\n",
      "E:\\SigTuple_Hack\\Train_Data\\train-72.jpg\n",
      "E:\\SigTuple_Hack\\Train_Data\\train-73.jpg\n",
      "E:\\SigTuple_Hack\\Train_Data\\train-74.jpg\n",
      "E:\\SigTuple_Hack\\Train_Data\\train-75.jpg\n",
      "E:\\SigTuple_Hack\\Train_Data\\train-76.jpg\n",
      "E:\\SigTuple_Hack\\Train_Data\\train-77.jpg\n",
      "E:\\SigTuple_Hack\\Train_Data\\train-78.jpg\n",
      "E:\\SigTuple_Hack\\Train_Data\\train-79.jpg\n",
      "E:\\SigTuple_Hack\\Train_Data\\train-8.jpg\n",
      "E:\\SigTuple_Hack\\Train_Data\\train-80.jpg\n",
      "E:\\SigTuple_Hack\\Train_Data\\train-81.jpg\n",
      "E:\\SigTuple_Hack\\Train_Data\\train-82.jpg\n",
      "E:\\SigTuple_Hack\\Train_Data\\train-83.jpg\n",
      "E:\\SigTuple_Hack\\Train_Data\\train-84.jpg\n",
      "E:\\SigTuple_Hack\\Train_Data\\train-85.jpg\n",
      "E:\\SigTuple_Hack\\Train_Data\\train-86.jpg\n",
      "E:\\SigTuple_Hack\\Train_Data\\train-87.jpg\n",
      "E:\\SigTuple_Hack\\Train_Data\\train-88.jpg\n",
      "E:\\SigTuple_Hack\\Train_Data\\train-89.jpg\n",
      "E:\\SigTuple_Hack\\Train_Data\\train-9.jpg\n",
      "E:\\SigTuple_Hack\\Train_Data\\train-90.jpg\n",
      "E:\\SigTuple_Hack\\Train_Data\\train-91.jpg\n",
      "E:\\SigTuple_Hack\\Train_Data\\train-92.jpg\n",
      "E:\\SigTuple_Hack\\Train_Data\\train-93.jpg\n",
      "E:\\SigTuple_Hack\\Train_Data\\train-94.jpg\n",
      "E:\\SigTuple_Hack\\Train_Data\\train-95.jpg\n",
      "E:\\SigTuple_Hack\\Train_Data\\train-96.jpg\n",
      "E:\\SigTuple_Hack\\Train_Data\\train-97.jpg\n",
      "E:\\SigTuple_Hack\\Train_Data\\train-98.jpg\n",
      "E:\\SigTuple_Hack\\Train_Data\\train-99.jpg\n"
     ]
    }
   ],
   "source": [
    "dfTrain = pd.DataFrame(columns = ['Red', 'Green', 'Blue', 'Mask'])\n",
    "\n",
    "for img_file in ip_files:\n",
    "    input_file = 'E:\\\\SigTuple_Hack\\\\Train_Data\\\\' + img_file\n",
    "    mask_file = 'E:\\\\SigTuple_Hack\\\\Train_Data\\\\' + img_file[:-4] + '-mask.jpg'\n",
    "    #input_file = 'E:\\\\SigTuple_Hack\\\\Test_Data\\\\' + img_file\n",
    "    #mask_file = 'E:\\\\SigTuple_Hack\\\\Test_Data\\\\Mask\\\\' + img_file[:-4] + '-mask.jpg'\n",
    "    \n",
    "    print input_file\n",
    "    #print mask_file\n",
    "\n",
    "    # Load the image & flatten 3d to 2d .\n",
    "    imgcolor = imread(input_file)/255.0\n",
    "    imgdf = pd.DataFrame(imgcolor.transpose(2,0,1).reshape(3,-1).transpose(1,0))\n",
    "    imgdf.columns = ['Red', 'Green', 'Blue']\n",
    "    \n",
    "    #print imgdf.shape\n",
    "    # Load mask and append to temp df\n",
    "    imgmask = imread(mask_file)/255.0\n",
    "    maskShape = imgmask.shape\n",
    "    imgdf['Mask'] = imgmask.reshape(maskShape[0]*maskShape[1])\n",
    "    \n",
    "    # Append to larger dataframe\n",
    "    dfTrain  = pd.concat([dfTrain, imgdf])"
   ]
  },
  {
   "cell_type": "code",
   "execution_count": 6,
   "metadata": {},
   "outputs": [
    {
     "name": "stdout",
     "output_type": "stream",
     "text": [
      "(6414012, 4)\n"
     ]
    }
   ],
   "source": [
    "dfTrain.Mask[dfTrain.Mask < 0.1] = 0\n",
    "dfTrain.Mask[dfTrain.Mask > 0.9] = 1\n",
    "\n",
    "print dfTrain.shape\n",
    "#dfTrain.to_csv('Train.csv')"
   ]
  },
  {
   "cell_type": "code",
   "execution_count": 7,
   "metadata": {
    "collapsed": true
   },
   "outputs": [],
   "source": [
    "dfTrain.to_csv('Train.csv')"
   ]
  },
  {
   "cell_type": "code",
   "execution_count": 8,
   "metadata": {},
   "outputs": [
    {
     "name": "stdout",
     "output_type": "stream",
     "text": [
      "(4489808, 4)\n",
      "(1924204, 4)\n"
     ]
    }
   ],
   "source": [
    "np.random.seed(1337)  # for reproducibility\n",
    "\n",
    "from sklearn.cross_validation import train_test_split\n",
    "\n",
    "train, test = train_test_split(dfTrain, test_size = 0.3)\n",
    "\n",
    "print train.shape\n",
    "print test.shape\n"
   ]
  },
  {
   "cell_type": "code",
   "execution_count": 12,
   "metadata": {},
   "outputs": [],
   "source": [
    "X = train[['Red', 'Green', 'Blue']]\n",
    "y = train.Mask"
   ]
  },
  {
   "cell_type": "code",
   "execution_count": null,
   "metadata": {},
   "outputs": [],
   "source": [
    "from sklearn import svm\n",
    "clf = svm.SVC()\n",
    "clf.fit(X, y) "
   ]
  },
  {
   "cell_type": "code",
   "execution_count": 11,
   "metadata": {},
   "outputs": [
    {
     "data": {
      "text/plain": [
       "array([[ 0.78431373,  0.75686275,  0.73333333],\n",
       "       [ 0.82745098,  0.78823529,  0.89411765],\n",
       "       [ 0.79607843,  0.80784314,  0.86666667],\n",
       "       ..., \n",
       "       [ 0.80392157,  0.74901961,  0.81568627],\n",
       "       [ 0.83529412,  0.79215686,  0.82352941],\n",
       "       [ 0.82352941,  0.79607843,  0.73333333]])"
      ]
     },
     "execution_count": 11,
     "metadata": {},
     "output_type": "execute_result"
    }
   ],
   "source": [
    "X"
   ]
  },
  {
   "cell_type": "code",
   "execution_count": null,
   "metadata": {
    "collapsed": true
   },
   "outputs": [],
   "source": []
  }
 ],
 "metadata": {
  "anaconda-cloud": {},
  "kernelspec": {
   "display_name": "Python 3",
   "language": "python",
   "name": "python3"
  },
  "language_info": {
   "codemirror_mode": {
    "name": "ipython",
    "version": 3
   },
   "file_extension": ".py",
   "mimetype": "text/x-python",
   "name": "python",
   "nbconvert_exporter": "python",
   "pygments_lexer": "ipython3",
   "version": "3.6.3"
  }
 },
 "nbformat": 4,
 "nbformat_minor": 1
}
